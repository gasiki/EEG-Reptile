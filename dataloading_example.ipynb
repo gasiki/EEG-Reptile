{
 "cells": [
  {
   "cell_type": "code",
   "execution_count": 1,
   "id": "94adbd297daa5711",
   "metadata": {
    "collapsed": false,
    "jupyter": {
     "outputs_hidden": false
    }
   },
   "outputs": [],
   "source": [
    "import warnings\n",
    "warnings.filterwarnings('ignore')"
   ]
  },
  {
   "cell_type": "markdown",
   "id": "ea7b2797b0843060",
   "metadata": {
    "collapsed": false,
    "jupyter": {
     "outputs_hidden": false
    }
   },
   "source": [
    "## Loading and preprocessing dataset from Moabb by Braindecode"
   ]
  },
  {
   "cell_type": "code",
   "execution_count": 3,
   "id": "286ffa89",
   "metadata": {},
   "outputs": [
    {
     "ename": "ModuleNotFoundError",
     "evalue": "No module named 'EEGReptile'",
     "output_type": "error",
     "traceback": [
      "\u001b[0;31m---------------------------------------------------------------------------\u001b[0m",
      "\u001b[0;31mModuleNotFoundError\u001b[0m                       Traceback (most recent call last)",
      "Cell \u001b[0;32mIn[3], line 4\u001b[0m\n\u001b[1;32m      2\u001b[0m \u001b[38;5;28;01mfrom\u001b[39;00m \u001b[38;5;21;01mbraindecode\u001b[39;00m\u001b[38;5;21;01m.\u001b[39;00m\u001b[38;5;21;01mdatautil\u001b[39;00m\u001b[38;5;21;01m.\u001b[39;00m\u001b[38;5;21;01mpreprocess\u001b[39;00m \u001b[38;5;28;01mimport\u001b[39;00m (exponential_moving_standardize, preprocess, Preprocessor)\n\u001b[1;32m      3\u001b[0m \u001b[38;5;28;01mfrom\u001b[39;00m \u001b[38;5;21;01mbraindecode\u001b[39;00m\u001b[38;5;21;01m.\u001b[39;00m\u001b[38;5;21;01mdatautil\u001b[39;00m\u001b[38;5;21;01m.\u001b[39;00m\u001b[38;5;21;01mwindowers\u001b[39;00m \u001b[38;5;28;01mimport\u001b[39;00m create_windows_from_events\n\u001b[0;32m----> 4\u001b[0m \u001b[38;5;28;01mimport\u001b[39;00m \u001b[38;5;21;01mEEGReptile\u001b[39;00m \u001b[38;5;28;01mas\u001b[39;00m \u001b[38;5;21;01mer\u001b[39;00m\n",
      "\u001b[0;31mModuleNotFoundError\u001b[0m: No module named 'EEGReptile'"
     ]
    }
   ],
   "source": [
    "from braindecode.datasets.moabb import MOABBDataset\n",
    "from braindecode.datautil.preprocess import (exponential_moving_standardize, preprocess, Preprocessor)\n",
    "from braindecode.datautil.windowers import create_windows_from_events\n",
    "import EEGReptile as er"
   ]
  },
  {
   "cell_type": "code",
   "execution_count": null,
   "id": "1ac59fb72195f3ab",
   "metadata": {
    "collapsed": false,
    "jupyter": {
     "outputs_hidden": false
    }
   },
   "outputs": [],
   "source": [
    "subject_ids = [1, 2, 3, 4, 5, 6, 7, 8, 9]\n",
    "ds = MOABBDataset(dataset_name=\"BNCI2014001\", subject_ids=subject_ids)   # loading dataset from MOABB\n",
    "low_cut = 4.\n",
    "high_cut = 38.\n",
    "factor_new = 1e-3\n",
    "init_block_size = 1000\n",
    "preprocessors = [\n",
    "    Preprocessor('pick_types', eeg=True, meg=False, stim=False),\n",
    "    Preprocessor(lambda x: x*1e3),\n",
    "    Preprocessor('filter', l_freq=low_cut, h_freq=high_cut),\n",
    "    Preprocessor(exponential_moving_standardize, factor_new=factor_new, init_block_size=init_block_size)\n",
    "]\n",
    "preprocess(ds, preprocessors)\n",
    "trial_start_ofset = -0.5\n",
    "sfreq = ds.datasets[0].raw.info['sfreq']\n",
    "assert all([d.raw.info['sfreq'] == sfreq for d in ds.datasets])\n",
    "trial_start_ofset_samples = int(trial_start_ofset * sfreq)\n",
    "w_ds = create_windows_from_events(\n",
    "    ds,\n",
    "    trial_start_offset_samples=trial_start_ofset_samples,\n",
    "    trial_stop_offset_samples=0,\n",
    "    window_size_samples=625,\n",
    "    window_stride_samples=500,\n",
    "    preload=False,\n",
    "    drop_last_window=True,\n",
    "    drop_bad_windows=True\n",
    ")\n",
    "dsub = w_ds.split(\"subject\")"
   ]
  },
  {
   "cell_type": "markdown",
   "id": "b2692c1612b58be7",
   "metadata": {
    "collapsed": false,
    "jupyter": {
     "outputs_hidden": false
    }
   },
   "source": [
    "## Create Reptile-EEG dataset structure\n",
    "- dataset_name - name of the dataset for access it and its folder name\n",
    "- description - some str information to store description of loaded data"
   ]
  },
  {
   "cell_type": "code",
   "execution_count": null,
   "id": "8bed4004a34ac2ca",
   "metadata": {
    "collapsed": false,
    "jupyter": {
     "outputs_hidden": false
    }
   },
   "outputs": [],
   "source": [
    "dataset = er.MetaDataset(dataset_name='BCI_IV',\n",
    "                         description='BCI IV 2a dataset filtered 4 - 38hz and standardaized')  # Creating dataset for EEG-reptile lib"
   ]
  },
  {
   "cell_type": "markdown",
   "id": "6208213b997b3604",
   "metadata": {
    "collapsed": false,
    "jupyter": {
     "outputs_hidden": false
    }
   },
   "source": [
    "## Loading data from Braindecode windows dataset to Reptile-EEG dataset\n",
    "dataset.add_subject_from_xy - function for uploading X - EEG data, Y - class labels in EEG-Reptile dataset.\n",
    "- subject_id - int\n",
    "- x - X data shaped **[epochs, channels, times]**\n",
    "- y - integer class labels **[epochs]**\n",
    "- test_size - float, specifies size of test set (0 - 1)"
   ]
  },
  {
   "cell_type": "code",
   "execution_count": null,
   "id": "initial_id",
   "metadata": {
    "collapsed": true,
    "jupyter": {
     "outputs_hidden": true
    }
   },
   "outputs": [],
   "source": [
    "for sub in subject_ids:\n",
    "    X = []\n",
    "    Y = []\n",
    "    Window = []\n",
    "    sds = dsub[str(sub)].split(\"session\")\n",
    "    for x, y, window in sds[\"0train\"]:\n",
    "        X.append(x)\n",
    "        Y.append(y)\n",
    "        Window.append(window)\n",
    "    for x, y, window in sds[\"1test\"]:\n",
    "        X.append(x)\n",
    "        Y.append(y)\n",
    "        Window.append(window)\n",
    "    dataset.add_subject_from_xy(subject_id=sub, x=X, y=Y, test_size=0.2)"
   ]
  }
 ],
 "metadata": {
  "kernelspec": {
   "display_name": "Python 3 (ipykernel)",
   "language": "python",
   "name": "python3"
  },
  "language_info": {
   "codemirror_mode": {
    "name": "ipython",
    "version": 3
   },
   "file_extension": ".py",
   "mimetype": "text/x-python",
   "name": "python",
   "nbconvert_exporter": "python",
   "pygments_lexer": "ipython3",
   "version": "3.8.19"
  }
 },
 "nbformat": 4,
 "nbformat_minor": 5
}
