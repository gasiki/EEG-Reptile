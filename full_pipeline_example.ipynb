{
 "cells": [
  {
   "cell_type": "code",
   "execution_count": null,
   "id": "initial_id",
   "metadata": {
    "collapsed": true
   },
   "outputs": [],
   "source": [
    "import EEGReptile as re   # import Reptile-EEG lib\n",
    "import copy"
   ]
  },
  {
   "cell_type": "markdown",
   "source": [
    "Prepare data and saving folders for experiment"
   ],
   "metadata": {
    "collapsed": false
   },
   "id": "3378a2d3ffe654b0"
  },
  {
   "cell_type": "code",
   "outputs": [],
   "source": [
    "experiment_name = re.experiment_storage(experiment_name='BCI_IV_EEGNet_example')   #create storage for models and new experiment data\n",
    "dataset = re.MetaDataset(dataset_name='BCI_IV')   #load dataset created in load data example\n",
    "print('Dataset ' + dataset.dataset_name + ' loaded.' + ' subjects: ' + str(dataset.subjects))\n",
    "targ = [7] # choose target subject to perform tests (Zero-. Few-shot) later\n",
    "tr_sub = copy.deepcopy(dataset.subjects)\n",
    "for sub in targ:   # remove target subject from \n",
    "    tr_sub.remove(sub) "
   ],
   "metadata": {
    "collapsed": false
   },
   "id": "4e533f7c34f3dd09"
  },
  {
   "cell_type": "markdown",
   "source": [
    "Prepare the model"
   ],
   "metadata": {
    "collapsed": false
   },
   "id": "86c980b396500963"
  },
  {
   "cell_type": "code",
   "outputs": [],
   "source": [
    "mparams = {   # params of EEGNet model\n",
    "    \"model_type\": \"inEEG_net\",\n",
    "    \"num_classes\": 4,\n",
    "    \"dropout1\": 0.52,\n",
    "    \"dropout2\": 0.36,\n",
    "    \"f1\": 16,\n",
    "    \"sampling_rate\": 250,\n",
    "    \"num_channels\": 22,\n",
    "    \"depth_multiplier\": 12,\n",
    "    \"time_of_interest\": 500,\n",
    "    \"time_points\": 625,\n",
    "    \"lowpass\": 50,\n",
    "    \"point_reducer\": 5\n",
    "}\n",
    "model = re.model_from_params(mparams) # crate codel with "
   ],
   "metadata": {
    "collapsed": false
   },
   "id": "a071e8ee330c0066"
  },
  {
   "cell_type": "markdown",
   "source": [
    "Find the meta-learning hyperparameters"
   ],
   "metadata": {
    "collapsed": false
   },
   "id": "585e4a4c6958e985"
  },
  {
   "cell_type": "code",
   "outputs": [],
   "source": [
    "params = re.meta_params(metadataset=dataset, model=model, tr_sub=tr_sub, trials=100,\n",
    "                        experiment_name=experiment_name)"
   ],
   "metadata": {
    "collapsed": false
   },
   "id": "bf1978c8577d353f"
  },
  {
   "cell_type": "markdown",
   "source": [
    "Perform meta-training (pretrained models will be saved in experiment folder)"
   ],
   "metadata": {
    "collapsed": false
   },
   "id": "4d9b1b8071d5d06f"
  },
  {
   "cell_type": "code",
   "outputs": [],
   "source": [
    "pretraining_auc = re.meta_exp(params=params, model=model, target_sub=targ + [3], # here we add subj 3 to use him in parameters search for fine-tuning \n",
    "                              metadataset=dataset, mode='batch', meta_optimizer=False, num_workers=2,\n",
    "                              experiment_name=experiment_name,\n",
    "                              baseline= True)  # train or not similar network on same data with classic Transfer Learning\n",
    "print('Pretraining completed. Mean auc for pretraining: ' + str(pretraining_auc))"
   ],
   "metadata": {
    "collapsed": false
   },
   "id": "fa61b0d744757744"
  },
  {
   "cell_type": "markdown",
   "source": [
    "Find hyperparams for fine-tuning\n",
    "-- lr\n",
    "-- (ax + b) = Epochs, where x is number of datapoints for fine-tuning"
   ],
   "metadata": {
    "collapsed": false
   },
   "id": "a1074eb298ddcc72"
  },
  {
   "cell_type": "code",
   "outputs": [],
   "source": [
    "af_params = re.aftrain_params(metadataset=dataset, model=model, tst_subj=[3], trials=100, jobs=2,\n",
    "                              experiment_name=experiment_name)"
   ],
   "metadata": {
    "collapsed": false
   },
   "id": "1b471eeb344608e1"
  },
  {
   "cell_type": "markdown",
   "source": [
    "Fine-tuning experiment (evaluation of performance on unseen subj)\n",
    "(results will be stored in experiment folder)"
   ],
   "metadata": {
    "collapsed": false
   },
   "id": "de6dac82bd487d4e"
  },
  {
   "cell_type": "code",
   "outputs": [],
   "source": [
    "re.aftrain(target_sub=targ, model=model,\n",
    "           af_params=af_params, metadataset=dataset,\n",
    "           length=65, # max number of datapoints which will be used for fine-tuning\n",
    "           iterations=5, # number of similar experiments with different random seed to get the mean stats\n",
    "           experiment_name=experiment_name, last_layer=False)"
   ],
   "metadata": {
    "collapsed": false
   },
   "id": "dc68281eb8fd5d83"
  }
 ],
 "metadata": {
  "kernelspec": {
   "display_name": "Python 3",
   "language": "python",
   "name": "python3"
  },
  "language_info": {
   "codemirror_mode": {
    "name": "ipython",
    "version": 2
   },
   "file_extension": ".py",
   "mimetype": "text/x-python",
   "name": "python",
   "nbconvert_exporter": "python",
   "pygments_lexer": "ipython2",
   "version": "2.7.6"
  }
 },
 "nbformat": 4,
 "nbformat_minor": 5
}
